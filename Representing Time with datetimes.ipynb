{
 "cells": [
  {
   "cell_type": "markdown",
   "metadata": {},
   "source": [
    "## Representing time with datetimes"
   ]
  },
  {
   "cell_type": "markdown",
   "metadata": {},
   "source": [
    "- Prolems in finance relate to changes over time\n",
    "- Python standard library for time is the datetime library -> contains time and date related functionality.\n",
    "- To represent a specific time you can use date time objects.\n",
    "- This objects have attributes representing the year, month, date, hour, second and microsecond\n",
    "- To create a date time object, you must atleast provide the year, month and date.  \n"
   ]
  },
  {
   "cell_type": "code",
   "execution_count": null,
   "metadata": {},
   "outputs": [],
   "source": [
    "from datetime import datetime  "
   ]
  },
  {
   "cell_type": "code",
   "execution_count": null,
   "metadata": {},
   "outputs": [
    {
     "name": "stdout",
     "output_type": "stream",
     "text": [
      "1987-10-19 00:00:00\n"
     ]
    }
   ],
   "source": [
    "# creating a date time object\n",
    "black_monday = datetime(1987,10,19) # an important day in the market crash of 1987\n",
    "print(black_monday )"
   ]
  },
  {
   "cell_type": "code",
   "execution_count": null,
   "metadata": {},
   "outputs": [
    {
     "data": {
      "text/plain": [
       "datetime.datetime(2023, 11, 14, 13, 21, 40, 918810)"
      ]
     },
     "execution_count": 3,
     "metadata": {},
     "output_type": "execute_result"
    }
   ],
   "source": [
    "# Capturing the current time- when you performed a particular calculation.\n",
    "datetime.now()"
   ]
  },
  {
   "cell_type": "markdown",
   "metadata": {},
   "source": [
    "### Datetime from String"
   ]
  },
  {
   "cell_type": "markdown",
   "metadata": {},
   "source": [
    "-  Using string parse time function.  It takes in two arguements i.e string to convert and format string.\n",
    "- Format string: contains format codes that are prefixed with % characters.\n",
    "- Year  : %Y without century(01,02,...,98,99) and with century (0001,1998,1999).\n",
    "- Month : %b -> Jan,Feb ; %B -> January, February ; %m ->01, 02.\n",
    "- Day of month : %d -> 01,02,...,30\n",
    "-  Weekday : %a -> Sun,...,Sat ; %A -> Sunday,...,Saturday ; %w -> Number(0,...,6)\n",
    "- Hour : %H -> 24hour, %I -> 12hour ,%M -> 01,02,...,59\n",
    "- Seconds: %S -> 00,...,59 \n",
    "- Micro-seconds: %f -> 000000,...,999999\n",
    "- AM/PM: %p(AM,PM)\n",
    " "
   ]
  },
  {
   "cell_type": "code",
   "execution_count": null,
   "metadata": {},
   "outputs": [],
   "source": [
    " # Creating a format string for the following - \"1837-05-10\"\n",
    "\n",
    "# Representing the year with century- %Y\n",
    "# Representing the month - %m\n",
    "# Representing the day of the month -%d\n",
    "\n",
    "# Putting everything together - we get a format string matching the date format\n",
    "# \"%Y-%M-%d\"\n"
   ]
  },
  {
   "cell_type": "markdown",
   "metadata": {},
   "source": [
    "#### Using the string from time function"
   ]
  },
  {
   "cell_type": "code",
   "execution_count": null,
   "metadata": {},
   "outputs": [],
   "source": [
    "df.strftime(format_string) # useful when putting dates to reports"
   ]
  },
  {
   "cell_type": "code",
   "execution_count": null,
   "metadata": {},
   "outputs": [],
   "source": [
    "#"
   ]
  },
  {
   "cell_type": "markdown",
   "metadata": {},
   "source": [
    "\" Friday, 17 May 01\"  \n",
    "\n",
    "\n",
    "\n",
    " \n",
    "\n",
    "\n"
   ]
  }
 ],
 "metadata": {
  "kernelspec": {
   "display_name": "Python 3",
   "language": "python",
   "name": "python3"
  },
  "language_info": {
   "codemirror_mode": {
    "name": "ipython",
    "version": 3
   },
   "file_extension": ".py",
   "mimetype": "text/x-python",
   "name": "python",
   "nbconvert_exporter": "python",
   "pygments_lexer": "ipython3",
   "version": "3.11.6"
  }
 },
 "nbformat": 4,
 "nbformat_minor": 2
}
