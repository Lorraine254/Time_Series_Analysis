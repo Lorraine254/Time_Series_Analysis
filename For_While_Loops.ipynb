{
 "cells": [
  {
   "cell_type": "markdown",
   "metadata": {},
   "source": [
    "# For and While Loops"
   ]
  },
  {
   "cell_type": "markdown",
   "metadata": {},
   "source": [
    "Control Statement:\n",
    "\n",
    "    Code block>"
   ]
  },
  {
   "cell_type": "markdown",
   "metadata": {},
   "source": [
    "- Control statement determines how many times a code block is executed."
   ]
  },
  {
   "cell_type": "markdown",
   "metadata": {},
   "source": [
    "### For Loops"
   ]
  },
  {
   "cell_type": "markdown",
   "metadata": {},
   "source": [
    "for variable in sequence:\n",
    "\n",
    "Sequence can be: list, keys of dictionary or string."
   ]
  },
  {
   "cell_type": "markdown",
   "metadata": {},
   "source": [
    "### While Loop"
   ]
  },
  {
   "cell_type": "markdown",
   "metadata": {},
   "source": [
    "while expression:\n",
    "\n",
    "- Executes the code block repeatedly as long as the expression is true."
   ]
  },
  {
   "cell_type": "code",
   "execution_count": 1,
   "metadata": {},
   "outputs": [
    {
     "name": "stdout",
     "output_type": "stream",
     "text": [
      "0\n",
      "1\n",
      "2\n",
      "3\n",
      "4\n"
     ]
    }
   ],
   "source": [
    "x = 0\n",
    "\n",
    "while x < 5:\n",
    "    print(x)\n",
    "    x= x+1"
   ]
  },
  {
   "cell_type": "markdown",
   "metadata": {},
   "source": [
    "- The while loop should always have a way to end, by adding an increamental value"
   ]
  },
  {
   "cell_type": "markdown",
   "metadata": {},
   "source": [
    "### Continue"
   ]
  },
  {
   "cell_type": "markdown",
   "metadata": {},
   "source": [
    "- Used to skip a loop iteration. It is generally used in combination with an 'if' statement to skip iterations which meet some condition. "
   ]
  },
  {
   "cell_type": "code",
   "execution_count": 3,
   "metadata": {},
   "outputs": [
    {
     "name": "stdout",
     "output_type": "stream",
     "text": [
      "0\n",
      "1\n",
      "3\n"
     ]
    }
   ],
   "source": [
    "for x in [0,1,2,3]:\n",
    "    if x == 2:\n",
    "        continue\n",
    "    print(x)"
   ]
  },
  {
   "cell_type": "markdown",
   "metadata": {},
   "source": [
    "### Break "
   ]
  },
  {
   "cell_type": "markdown",
   "metadata": {},
   "source": [
    "- Is used to exit from a loop, without finishing iteration. Is used in conjunction with an 'if' statement. "
   ]
  },
  {
   "cell_type": "markdown",
   "metadata": {},
   "source": [
    "### Dataframe"
   ]
  },
  {
   "cell_type": "markdown",
   "metadata": {},
   "source": [
    "- Dataframe can be created from : pd.Dataframe(data,colums)\n",
    " 1. Dict - key representing a column.\n",
    " 2. Lists of dictionaries \n",
    " 3. Lists of list\n"
   ]
  },
  {
   "cell_type": "markdown",
   "metadata": {},
   "source": [
    "- Reading data:\n",
    "1. Excel->pd.read_excel\n",
    "2. JSON -> pd.read_json\n",
    "3. HTML -> pd.read_html\n",
    "4. Pickle -> pd.read_pickle\n",
    "5. Sql -> pd.read_sql\n",
    "6. Csv -> pd.read_csv\n"
   ]
  },
  {
   "cell_type": "markdown",
   "metadata": {},
   "source": [
    "### Accessing Data"
   ]
  },
  {
   "cell_type": "markdown",
   "metadata": {},
   "source": [
    "#### Accessing Columns"
   ]
  },
  {
   "cell_type": "markdown",
   "metadata": {},
   "source": [
    "1. Using Brackets -> df['Name of column']\n",
    "2. Using dot-syntax -> df.ColumnName\n",
    "3. Accessing multiple columns at once:\n",
    "   i.e accounts[['Bank code', 'Account#']]\n"
   ]
  },
  {
   "cell_type": "markdown",
   "metadata": {},
   "source": [
    "### Accessing Rows"
   ]
  },
  {
   "cell_type": "markdown",
   "metadata": {},
   "source": [
    "1. Using brackets(slicer argument)-> accounts[0:2]\n",
    "\n",
    "   - This takes the 1st and 2nd row and excludes the third row.\n",
    "2. Using Booleans -> accounts[[True,False.True]]    \n",
    "\n",
    "   - Fetch the first and last row, skipping the middle by passing a False value.    \n"
   ]
  },
  {
   "cell_type": "markdown",
   "metadata": {},
   "source": [
    "### Loc and iloc"
   ]
  },
  {
   "cell_type": "markdown",
   "metadata": {},
   "source": [
    "#### Loc method"
   ]
  },
  {
   "cell_type": "markdown",
   "metadata": {},
   "source": [
    "Efficient with large datasets.\n",
    "- Loc -> uses row names i.e\n",
    "\n",
    "*Rows with loc: accounts.loc[['a','c']] ; df.loc[[True,False,True]]\n",
    "\n",
    "*Columns with loc: accounts.loc ['a':'c','Balance'] ; accounts.loc ['a':'c',['Balance','Account#']] ; accounts.loc ['a':'c','Bank Code': 'Balance']\n",
    "\n",
    "NB: When you slice using names, the last name is included,unlike with numbers.\n",
    "\n",
    "- Setting a single value\n",
    "  \n",
    "  accounts.loc ['a','Balance'] = 0"
   ]
  },
  {
   "cell_type": "markdown",
   "metadata": {},
   "source": [
    "#### iLoc Method"
   ]
  },
  {
   "cell_type": "markdown",
   "metadata": {},
   "source": [
    "- Uses index and column positions.\n",
    "- accounts.iloc [0:2, [0,2]]\n",
    "\n",
    "   -> We select the first two rows using a slice, and the first and last columns using a list.\n",
    "\n",
    "- accounts.iloc[:2,1:] = 'NA'  \n",
    "\n",
    "   -> the first two rows and the last two columns set to NA\n"
   ]
  },
  {
   "cell_type": "markdown",
   "metadata": {},
   "source": [
    "### Aggregating and Summarizing"
   ]
  },
  {
   "cell_type": "markdown",
   "metadata": {},
   "source": [
    "- Is set to default axis = 0(Rows)"
   ]
  },
  {
   "cell_type": "markdown",
   "metadata": {},
   "source": [
    "### Extending and Manipulating data"
   ]
  },
  {
   "cell_type": "markdown",
   "metadata": {},
   "source": [
    "- Adding columns or rows to a DataFrame, and applying functions to a single column or whole DataFrame."
   ]
  },
  {
   "cell_type": "markdown",
   "metadata": {},
   "source": [
    "#### Adding columns to a dataframe"
   ]
  },
  {
   "cell_type": "markdown",
   "metadata": {},
   "source": [
    "   pce['New_column_name]=[[33.941,30.503,25.7980,20.169]]\n",
    "\n",
    "Adding a df as a column to another df\n",
    "\n",
    "    pse['New_column_name]=df\n",
    "\n",
    "Operations across columns:\n",
    "\n",
    "    pce['PCE'] = pce['PCDG']+pce['PCND']+pce['PCESV']    "
   ]
  },
  {
   "cell_type": "markdown",
   "metadata": {},
   "source": [
    "#### Dropping columns"
   ]
  },
  {
   "cell_type": "markdown",
   "metadata": {},
   "source": [
    "  pce.drop(columns=['PCDG','PCND','PCESV'],axis=1,inplace=True)"
   ]
  },
  {
   "cell_type": "markdown",
   "metadata": {},
   "source": [
    "#### Adding rows to a dataframe"
   ]
  },
  {
   "cell_type": "markdown",
   "metadata": {},
   "source": [
    "- Using the append method.\n",
    "\n",
    "    pce.append(new_row)\n",
    "\n",
    " - Using concat()"
   ]
  },
  {
   "cell_type": "markdown",
   "metadata": {},
   "source": [
    "#### Dropping rows"
   ]
  },
  {
   "cell_type": "markdown",
   "metadata": {},
   "source": [
    "pce.drop(['1934-01','1935-01],inplace= True)"
   ]
  },
  {
   "cell_type": "markdown",
   "metadata": {},
   "source": [
    "#### Operations on Dataframes"
   ]
  },
  {
   "cell_type": "markdown",
   "metadata": {},
   "source": [
    "ec = 0.88\n",
    "pce * ec"
   ]
  },
  {
   "cell_type": "markdown",
   "metadata": {},
   "source": [
    "- Using the map method: map does operations on the individual elements in a column\n",
    "\n",
    "def convert_to_euro(x): \n",
    "\n",
    "    return x * 0.88\n",
    "\n",
    "pce['EURO'] = pce['PCE'].map(convert_to_euro)  \n",
    "\n",
    "- Using apply method:can perform operations across multiple columns or rows.\n",
    "\n",
    "    Calculating GDP across rows\n",
    "\n",
    "    gdp['GDP']=gdp.apply(np.sum, axis=1)\n",
    "\n",
    " "
   ]
  },
  {
   "cell_type": "markdown",
   "metadata": {},
   "source": [
    "### Peeking at data"
   ]
  },
  {
   "cell_type": "markdown",
   "metadata": {},
   "source": [
    "head(), describe()\n",
    "\n",
    "- Describe() : can take in three option arguements -> include,exclude and percentiles.\n",
    "\n",
    "aapl.describe(include='object') -> for specific columns with object dtype\n",
    "\n",
    "aapl.describe(include='all') -> for all columns.\n",
    "\n",
    "- Percentiles -> 25% , 50% and 75% can be overridden by using\n",
    "\n",
    "aapl.describe(percentiles=[.1, .5, .9])\n",
    "\n",
    "- Exclude:\n",
    "\n",
    "aapl.describe(exclude ='float')\n",
    "\n",
    "\n",
    "\n",
    "\n"
   ]
  },
  {
   "cell_type": "markdown",
   "metadata": {},
   "source": [
    "### Filtering data"
   ]
  },
  {
   "cell_type": "markdown",
   "metadata": {},
   "source": [
    "- Select all of the rows for a particular stock, or all of the rows whose price is above a certain value.\n"
   ]
  },
  {
   "cell_type": "markdown",
   "metadata": {},
   "source": [
    " mask= prices.Symbol == 'AAPL'\n",
    "\n",
    " aapl = prices.loc[mask]\n"
   ]
  },
  {
   "cell_type": "markdown",
   "metadata": {},
   "source": [
    "- Combining conditions using boolean operators : and & , or | , not ~\n",
    "\n",
    "\n",
    "-"
   ]
  },
  {
   "cell_type": "markdown",
   "metadata": {},
   "source": [
    "#### Plotting Data"
   ]
  },
  {
   "cell_type": "markdown",
   "metadata": {},
   "source": [
    "- Pandas DataFrames have a simplified interface to matplotlib through the .plot() method.\n",
    "\n",
    "     df.plot()\n",
    "\n",
    "- Line plot\n",
    "\n",
    "     df.plot(x='Date',y='high',rot=90,title='sfc')\n",
    "\n",
    "- If we leave out the x arguement, the index is used instead:\n",
    "\n",
    "     df.set_index('Date',inplace='True')\n",
    "\n",
    "     df.plot(y='high',rot=90,title='sfc')\n"
   ]
  },
  {
   "cell_type": "markdown",
   "metadata": {},
   "source": [
    "Plot() types\n",
    "- Default -> line plot.\n",
    "\n",
    "- bar\n",
    "\n",
    "- barh\n",
    "\n",
    "- hist\n",
    "\n",
    "- box\n",
    "\n",
    "- kde\n",
    "\n",
    "- density\n",
    "\n",
    "- area\n",
    "\n",
    "- pie\n",
    "\n",
    "- scatter\n",
    "\n",
    "- hexbin\n",
    "\n",
    "- To specify another plot other than the line, use  the kind parameter. Example shown below.\n",
    "\n"
   ]
  },
  {
   "cell_type": "markdown",
   "metadata": {},
   "source": [
    "- Bar charts are a great way to visualize data by category.\n",
    "\n",
    "     df.plot(x='Month',y='Volume',kind='bar',title = 'Exxon')\n",
    "\n",
    "- A histogram is a great way to see the distribution of different values. \n",
    "\n",
    "     df.plot(y='High',kind='bar',title = 'Exxon')\n",
    "\n"
   ]
  },
  {
   "cell_type": "markdown",
   "metadata": {},
   "source": [
    "#### Wrapping Up"
   ]
  },
  {
   "cell_type": "markdown",
   "metadata": {},
   "source": []
  }
 ],
 "metadata": {
  "kernelspec": {
   "display_name": "Python 3",
   "language": "python",
   "name": "python3"
  },
  "language_info": {
   "codemirror_mode": {
    "name": "ipython",
    "version": 3
   },
   "file_extension": ".py",
   "mimetype": "text/x-python",
   "name": "python",
   "nbconvert_exporter": "python",
   "pygments_lexer": "ipython3",
   "version": "3.11.4"
  }
 },
 "nbformat": 4,
 "nbformat_minor": 2
}
