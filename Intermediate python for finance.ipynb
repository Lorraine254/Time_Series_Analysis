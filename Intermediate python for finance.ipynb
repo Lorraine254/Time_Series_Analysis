{
 "cells": [
  {
   "cell_type": "markdown",
   "metadata": {},
   "source": [
    "## Representing time with datetimes"
   ]
  },
  {
   "cell_type": "markdown",
   "metadata": {},
   "source": [
    "- Prolems in finance relate to changes over time\n",
    "- Python standard library for time is the datetime library -> contains time and date related functionality.\n",
    "- To represent a specific time you can use date time objects.\n",
    "- This objects have attributes representing the year, month, date, hour, second and microsecond\n",
    "- To create a date time object, you must atleast provide the year, month and date.  \n"
   ]
  },
  {
   "cell_type": "code",
   "execution_count": 102,
   "metadata": {},
   "outputs": [],
   "source": [
    "from datetime import datetime  "
   ]
  },
  {
   "cell_type": "code",
   "execution_count": 103,
   "metadata": {},
   "outputs": [
    {
     "name": "stdout",
     "output_type": "stream",
     "text": [
      "1987-10-19 00:00:00\n"
     ]
    }
   ],
   "source": [
    "# creating a date time object\n",
    "black_monday = datetime(1987,10,19) # an important day in the market crash of 1987\n",
    "print(black_monday )"
   ]
  },
  {
   "cell_type": "code",
   "execution_count": 104,
   "metadata": {},
   "outputs": [
    {
     "data": {
      "text/plain": [
       "datetime.datetime(2023, 11, 18, 14, 52, 0, 233081)"
      ]
     },
     "execution_count": 104,
     "metadata": {},
     "output_type": "execute_result"
    }
   ],
   "source": [
    "# Capturing the current time- when you performed a particular calculation.\n",
    "datetime.now()"
   ]
  },
  {
   "cell_type": "markdown",
   "metadata": {},
   "source": [
    "### Datetime from String"
   ]
  },
  {
   "cell_type": "markdown",
   "metadata": {},
   "source": [
    "-  Using string parse time function.  It takes in two arguements i.e string to convert and format string.\n",
    "- Format string: contains format codes that are prefixed with % characters.\n",
    "- Year  : %Y without century(01,02,...,98,99) and with century (0001,1998,1999).\n",
    "- Month : %b -> Jan,Feb ; %B -> January, February ; %m ->01, 02.\n",
    "- Day of month : %d -> 01,02,...,30\n",
    "-  Weekday : %a -> Sun,...,Sat ; %A -> Sunday,...,Saturday ; %w -> Number(0,...,6)\n",
    "- Hour : %H -> 24hour, %I -> 12hour ,%M -> 01,02,...,59\n",
    "- Seconds: %S -> 00,...,59 \n",
    "- Micro-seconds: %f -> 000000,...,999999\n",
    "- AM/PM: %p(AM,PM)\n",
    " "
   ]
  },
  {
   "cell_type": "code",
   "execution_count": 105,
   "metadata": {},
   "outputs": [],
   "source": [
    " # Creating a format string for the following - \"1837-05-10\"\n",
    "\n",
    "# Representing the year with century- %Y\n",
    "# Representing the month - %m\n",
    "# Representing the day of the month -%d\n",
    "\n",
    "# Putting everything together - we get a format string matching the date format\n",
    "# \"%Y-%M-%d\"\n"
   ]
  },
  {
   "cell_type": "markdown",
   "metadata": {},
   "source": [
    "#### Using the string from time function"
   ]
  },
  {
   "cell_type": "markdown",
   "metadata": {},
   "source": [
    "### Exercises"
   ]
  },
  {
   "cell_type": "code",
   "execution_count": 106,
   "metadata": {},
   "outputs": [
    {
     "name": "stdout",
     "output_type": "stream",
     "text": [
      "1992-09-16 00:00:00\n",
      "Wednesday, September 16, 1992\n"
     ]
    }
   ],
   "source": [
    "org_text = \"Sep 16 1992\"\n",
    "\n",
    "# Format string for original text\n",
    "org_format = \"%b %d %Y\"\n",
    "\n",
    "# Create datetime for Black Wednesday\n",
    "black_wednesday = datetime.strptime(org_text, org_format)\n",
    "print(black_wednesday)\n",
    "\n",
    "# New format: 'Wednesday, September 16, 1992'\n",
    "new_format = \"%A, %B %d, %Y\"\n",
    "\n",
    "# String in new format\n",
    "new_text = black_wednesday.strftime(new_format)\n",
    "print(new_text)"
   ]
  },
  {
   "cell_type": "markdown",
   "metadata": {},
   "source": [
    "- Difference between strptime and strftime: \n",
    "1. strptime - This method is used to parse a string representing a date and time and convert it into a datetime object.This method is used to parse a string representing a date and time and convert it into a datetime object. It takes in two arguments the date string and format string.\n",
    "   \n",
    "2. strftime - This method is used to format a datetime object as a string. It takes a format string as its argument and returns a string representing the formatted date and time."
   ]
  },
  {
   "cell_type": "markdown",
   "metadata": {},
   "source": [
    "# Working with date times"
   ]
  },
  {
   "cell_type": "markdown",
   "metadata": {},
   "source": [
    "## Datetime attributes:\n",
    "- You can access numerical values for the year, month and day. i.e now.year,now.month.\n",
    "- You can compare datetimes to each other based on the times they represent:\n"
   ]
  },
  {
   "cell_type": "markdown",
   "metadata": {},
   "source": [
    "### Comparing datetimes"
   ]
  },
  {
   "cell_type": "code",
   "execution_count": 107,
   "metadata": {},
   "outputs": [
    {
     "data": {
      "text/plain": [
       "True"
      ]
     },
     "execution_count": 107,
     "metadata": {},
     "output_type": "execute_result"
    }
   ],
   "source": [
    "from datetime import datetime\n",
    "asian_crisis = datetime(1997,7,2)\n",
    "world_mini_crash = datetime(1997,10,27)\n",
    "\n",
    "# checking which one came first\n",
    "asian_crisis > world_mini_crash\n",
    "\n",
    "asian_crisis < world_mini_crash"
   ]
  },
  {
   "cell_type": "markdown",
   "metadata": {},
   "source": [
    "- So it is the value of the time that the datetime represents that is used for comparison."
   ]
  },
  {
   "cell_type": "markdown",
   "metadata": {},
   "source": [
    "### Difference Between Datetimes"
   ]
  },
  {
   "cell_type": "markdown",
   "metadata": {},
   "source": [
    "- How much time passed between datetimes. Subtraction of datetimes returns a timedelta object.\n",
    "- Timedelta attrributes: weeks,days, minutes.seconds, microseconds.\n"
   ]
  },
  {
   "cell_type": "code",
   "execution_count": 108,
   "metadata": {},
   "outputs": [
    {
     "data": {
      "text/plain": [
       "datetime.timedelta"
      ]
     },
     "execution_count": 108,
     "metadata": {},
     "output_type": "execute_result"
    }
   ],
   "source": [
    "# Getting the difference between datetimes\n",
    "delta= world_mini_crash - asian_crisis\n",
    "\n",
    "# checking the datatype of delta\n",
    "type(delta)\n",
    "\n"
   ]
  },
  {
   "cell_type": "code",
   "execution_count": 109,
   "metadata": {},
   "outputs": [
    {
     "data": {
      "text/plain": [
       "117"
      ]
     },
     "execution_count": 109,
     "metadata": {},
     "output_type": "execute_result"
    }
   ],
   "source": [
    "#accessing the days attriute of delta\n",
    "delta.days"
   ]
  },
  {
   "cell_type": "markdown",
   "metadata": {},
   "source": []
  },
  {
   "cell_type": "markdown",
   "metadata": {},
   "source": [
    "### Creating Relative datetimes"
   ]
  },
  {
   "cell_type": "markdown",
   "metadata": {},
   "source": [
    "- For example, you have a datetime named dt, which represents January 14th, 2019. You wish to construct a new datetime, which is one week earlier. \n",
    "\n",
    "- To do this we use time deltas."
   ]
  },
  {
   "cell_type": "code",
   "execution_count": 110,
   "metadata": {},
   "outputs": [
    {
     "data": {
      "text/plain": [
       "datetime.timedelta(days=7)"
      ]
     },
     "execution_count": 110,
     "metadata": {},
     "output_type": "execute_result"
    }
   ],
   "source": [
    "#loading the required library\n",
    "from datetime import timedelta\n",
    "\n",
    "#creating a timedelta object for the desired offset\n",
    "offset = timedelta(weeks = 1) #can be in weeks,hours,days, minutes\n",
    "offset\n"
   ]
  },
  {
   "cell_type": "code",
   "execution_count": 111,
   "metadata": {},
   "outputs": [
    {
     "name": "stdout",
     "output_type": "stream",
     "text": [
      "2019-01-14 00:00:00\n"
     ]
    }
   ],
   "source": [
    "org_text = \"January 14 2019\"\n",
    "\n",
    "# Format string for original text\n",
    "org_format = \"%B %d  %Y\"\n",
    "\n",
    "# Create datetime for Black Wednesday\n",
    "dt = datetime.strptime(org_text, org_format)\n",
    "print(dt)\n"
   ]
  },
  {
   "cell_type": "code",
   "execution_count": 112,
   "metadata": {},
   "outputs": [
    {
     "data": {
      "text/plain": [
       "datetime.datetime(2019, 1, 7, 0, 0)"
      ]
     },
     "execution_count": 112,
     "metadata": {},
     "output_type": "execute_result"
    }
   ],
   "source": [
    "# Getting the one week earlier offset\n",
    "dt - offset"
   ]
  },
  {
   "cell_type": "code",
   "execution_count": 113,
   "metadata": {},
   "outputs": [
    {
     "data": {
      "text/plain": [
       "datetime.datetime(2018, 12, 29, 0, 0)"
      ]
     },
     "execution_count": 113,
     "metadata": {},
     "output_type": "execute_result"
    }
   ],
   "source": [
    "# Getting the offset of 16 days earlier\n",
    "offset = timedelta(days=16)\n",
    "dt-offset"
   ]
  },
  {
   "cell_type": "markdown",
   "metadata": {},
   "source": [
    "## Dictionaries"
   ]
  },
  {
   "cell_type": "markdown",
   "metadata": {},
   "source": [
    "- List and arrays. -> Have index\n",
    "- Dictionary -> uses a key. Each item has a unique key.\n",
    "- {'key-1':'value-1','key-2': 'value-2','key-3': 'value-3'}\n",
    "-  "
   ]
  },
  {
   "cell_type": "markdown",
   "metadata": {},
   "source": [
    "### Creating dictionaries"
   ]
  },
  {
   "cell_type": "code",
   "execution_count": 114,
   "metadata": {},
   "outputs": [
    {
     "data": {
      "text/plain": [
       "{}"
      ]
     },
     "execution_count": 114,
     "metadata": {},
     "output_type": "execute_result"
    }
   ],
   "source": [
    "my_dict = {}\n",
    "my_dict"
   ]
  },
  {
   "cell_type": "code",
   "execution_count": 115,
   "metadata": {},
   "outputs": [
    {
     "data": {
      "text/plain": [
       "{}"
      ]
     },
     "execution_count": 115,
     "metadata": {},
     "output_type": "execute_result"
    }
   ],
   "source": [
    "#Using the dict function\n",
    "my_dict = dict()\n",
    "my_dict\n"
   ]
  },
  {
   "cell_type": "code",
   "execution_count": 116,
   "metadata": {},
   "outputs": [
    {
     "name": "stdout",
     "output_type": "stream",
     "text": [
      "{'AAPL': 'Apple', 'F': 'Ford', 'LUV': 'Southwest'}\n"
     ]
    }
   ],
   "source": [
    "ticker_symbols = {'AAPL':'Apple','F': 'Ford','LUV':'Southwest'}\n",
    "print(ticker_symbols)"
   ]
  },
  {
   "cell_type": "markdown",
   "metadata": {},
   "source": [
    "### Adding to Dictionaries"
   ]
  },
  {
   "cell_type": "code",
   "execution_count": 117,
   "metadata": {},
   "outputs": [
    {
     "data": {
      "text/plain": [
       "{'AAPL': 'Apple', 'F': 'Ford', 'LUV': 'Southwest', 'XON': 'Exxon'}"
      ]
     },
     "execution_count": 117,
     "metadata": {},
     "output_type": "execute_result"
    }
   ],
   "source": [
    "# Adding to the ticker dictionary\n",
    "ticker_symbols['XON']='Exxon'\n",
    "ticker_symbols"
   ]
  },
  {
   "cell_type": "code",
   "execution_count": 118,
   "metadata": {},
   "outputs": [
    {
     "data": {
      "text/plain": [
       "{'AAPL': 'Apple', 'F': 'Ford', 'LUV': 'Southwest', 'XON': 'Exxon OLD'}"
      ]
     },
     "execution_count": 118,
     "metadata": {},
     "output_type": "execute_result"
    }
   ],
   "source": [
    "# Updating a key\n",
    "ticker_symbols['XON']='Exxon OLD'\n",
    "ticker_symbols"
   ]
  },
  {
   "cell_type": "markdown",
   "metadata": {},
   "source": [
    "### Accessing values"
   ]
  },
  {
   "cell_type": "code",
   "execution_count": 119,
   "metadata": {},
   "outputs": [
    {
     "data": {
      "text/plain": [
       "'Ford'"
      ]
     },
     "execution_count": 119,
     "metadata": {},
     "output_type": "execute_result"
    }
   ],
   "source": [
    "#Accessing the value Ford in the dictionary\n",
    "ticker_symbols['F']"
   ]
  },
  {
   "cell_type": "code",
   "execution_count": 120,
   "metadata": {},
   "outputs": [
    {
     "name": "stdout",
     "output_type": "stream",
     "text": [
      "Southwest\n"
     ]
    }
   ],
   "source": [
    "# Using the get method\n",
    "company =ticker_symbols.get('LUV')\n",
    "print(company)"
   ]
  },
  {
   "cell_type": "code",
   "execution_count": 121,
   "metadata": {},
   "outputs": [
    {
     "name": "stdout",
     "output_type": "stream",
     "text": [
      "None\n"
     ]
    }
   ],
   "source": [
    "# None is returned if you request a missing key\n",
    "four = ticker_symbols.get('XOM')\n",
    "print(four)"
   ]
  },
  {
   "cell_type": "code",
   "execution_count": 122,
   "metadata": {},
   "outputs": [
    {
     "name": "stdout",
     "output_type": "stream",
     "text": [
      "Missing\n"
     ]
    }
   ],
   "source": [
    "company =ticker_symbols.get('XOM','Missing')\n",
    "print(company)"
   ]
  },
  {
   "cell_type": "markdown",
   "metadata": {},
   "source": [
    "### Deleting from dictionaries"
   ]
  },
  {
   "cell_type": "code",
   "execution_count": 123,
   "metadata": {},
   "outputs": [],
   "source": [
    "#Using the del() function\n",
    "del(ticker_symbols['XON'])"
   ]
  },
  {
   "cell_type": "code",
   "execution_count": 124,
   "metadata": {},
   "outputs": [
    {
     "data": {
      "text/plain": [
       "{'AAPL': 'Apple', 'F': 'Ford', 'LUV': 'Southwest'}"
      ]
     },
     "execution_count": 124,
     "metadata": {},
     "output_type": "execute_result"
    }
   ],
   "source": [
    "ticker_symbols\n"
   ]
  },
  {
   "cell_type": "markdown",
   "metadata": {},
   "source": [
    "## Comparison Operators"
   ]
  },
  {
   "cell_type": "markdown",
   "metadata": {},
   "source": [
    "- Detect if a stock closing price is higher than its opening price.\n",
    "- Equality comparisons can be done for: datetimes,numbers,dictionaries,strings."
   ]
  },
  {
   "cell_type": "markdown",
   "metadata": {},
   "source": [
    "### Comparing Datetimes"
   ]
  },
  {
   "cell_type": "code",
   "execution_count": 125,
   "metadata": {},
   "outputs": [
    {
     "name": "stdout",
     "output_type": "stream",
     "text": [
      "True\n"
     ]
    }
   ],
   "source": [
    "date_close_high =datetime(2019,11,27)\n",
    "date_intra_high =datetime(2019,11,27)\n",
    "print(date_close_high == date_intra_high)"
   ]
  },
  {
   "cell_type": "markdown",
   "metadata": {},
   "source": [
    "### Comparing Dictionaries"
   ]
  },
  {
   "cell_type": "code",
   "execution_count": 126,
   "metadata": {},
   "outputs": [
    {
     "name": "stdout",
     "output_type": "stream",
     "text": [
      "True\n"
     ]
    }
   ],
   "source": [
    "d1 = {'high':56.88,'low':33.32,'closing':56.88}\n",
    "d2 = {'high':56.88,'low':33.32,'closing':56.88}\n",
    "print(d1==d2)"
   ]
  },
  {
   "cell_type": "markdown",
   "metadata": {},
   "source": [
    "- Dictionaries are not equal if the keys differ or if any of the values differ."
   ]
  },
  {
   "cell_type": "code",
   "execution_count": 127,
   "metadata": {},
   "outputs": [
    {
     "name": "stdout",
     "output_type": "stream",
     "text": [
      "False\n"
     ]
    }
   ],
   "source": [
    "d1 ={'high':56.88,'low':33.32,'closing':56.88}\n",
    "d2 = {'high':56.88,'low':33.32,'closing':12.89}\n",
    "print(d1==d2)"
   ]
  },
  {
   "cell_type": "markdown",
   "metadata": {},
   "source": [
    "### Comparing different types"
   ]
  },
  {
   "cell_type": "code",
   "execution_count": 128,
   "metadata": {},
   "outputs": [
    {
     "name": "stdout",
     "output_type": "stream",
     "text": [
      "True\n"
     ]
    }
   ],
   "source": [
    "#int and float\n",
    "print(3==3.0)"
   ]
  },
  {
   "cell_type": "code",
   "execution_count": 129,
   "metadata": {},
   "outputs": [
    {
     "name": "stdout",
     "output_type": "stream",
     "text": [
      "False\n"
     ]
    }
   ],
   "source": [
    "#int and string\n",
    "print(3 == '3')"
   ]
  },
  {
   "cell_type": "markdown",
   "metadata": {},
   "source": [
    "## Boolean Operators"
   ]
  },
  {
   "cell_type": "markdown",
   "metadata": {},
   "source": [
    "and,or,not"
   ]
  },
  {
   "cell_type": "markdown",
   "metadata": {},
   "source": [
    "### AND Operator"
   ]
  },
  {
   "cell_type": "code",
   "execution_count": 130,
   "metadata": {},
   "outputs": [
    {
     "data": {
      "text/plain": [
       "True"
      ]
     },
     "execution_count": 130,
     "metadata": {},
     "output_type": "execute_result"
    }
   ],
   "source": [
    "True and True"
   ]
  },
  {
   "cell_type": "code",
   "execution_count": 131,
   "metadata": {},
   "outputs": [
    {
     "data": {
      "text/plain": [
       "False"
      ]
     },
     "execution_count": 131,
     "metadata": {},
     "output_type": "execute_result"
    }
   ],
   "source": [
    "True and False"
   ]
  },
  {
   "cell_type": "markdown",
   "metadata": {},
   "source": [
    "### OR Operator"
   ]
  },
  {
   "cell_type": "code",
   "execution_count": 132,
   "metadata": {},
   "outputs": [
    {
     "data": {
      "text/plain": [
       "True"
      ]
     },
     "execution_count": 132,
     "metadata": {},
     "output_type": "execute_result"
    }
   ],
   "source": [
    "False or True"
   ]
  },
  {
   "cell_type": "code",
   "execution_count": 133,
   "metadata": {},
   "outputs": [
    {
     "data": {
      "text/plain": [
       "True"
      ]
     },
     "execution_count": 133,
     "metadata": {},
     "output_type": "execute_result"
    }
   ],
   "source": [
    "True or True"
   ]
  },
  {
   "cell_type": "code",
   "execution_count": 134,
   "metadata": {},
   "outputs": [
    {
     "data": {
      "text/plain": [
       "False"
      ]
     },
     "execution_count": 134,
     "metadata": {},
     "output_type": "execute_result"
    }
   ],
   "source": [
    "False or False"
   ]
  },
  {
   "cell_type": "markdown",
   "metadata": {},
   "source": [
    "### NOT Operator"
   ]
  },
  {
   "cell_type": "markdown",
   "metadata": {},
   "source": [
    "### IF STATEMENTS"
   ]
  },
  {
   "cell_type": "markdown",
   "metadata": {},
   "source": [
    "if (expression): statement;statement;statement\n",
    "\n",
    "if x<y:\n",
    "if x in y:\n",
    "if x and y:\n",
    "if x:"
   ]
  },
  {
   "cell_type": "code",
   "execution_count": 136,
   "metadata": {},
   "outputs": [],
   "source": [
    "trns = {'symbol':'TSLA','type': 'BUY','amount': 300}\n",
    "\n",
    "#Applying the if statement to get output if the type is sell\n",
    "if trns['type'] == \"SELL\":\n",
    "    print(trns['amount'])\n"
   ]
  },
  {
   "cell_type": "markdown",
   "metadata": {},
   "source": [
    "### Else"
   ]
  },
  {
   "cell_type": "markdown",
   "metadata": {},
   "source": [
    "- Define code that should execute in the case that the if statement is false."
   ]
  },
  {
   "cell_type": "markdown",
   "metadata": {},
   "source": [
    "if x in y:\n",
    "\n",
    "    print('I found x in y')\n",
    "\n",
    "else:\n",
    "\n",
    "    print(\"No x in y\")\n"
   ]
  },
  {
   "cell_type": "markdown",
   "metadata": {},
   "source": [
    "### Elif"
   ]
  },
  {
   "cell_type": "markdown",
   "metadata": {},
   "source": [
    "- Lets you define an if statement that is only evaluated if the initial 'if' statement is False."
   ]
  },
  {
   "cell_type": "markdown",
   "metadata": {},
   "source": [
    "if x==y:\n",
    "\n",
    "    print('equals')\n",
    "\n",
    "elif x<y:\n",
    "\n",
    "    print('less')"
   ]
  },
  {
   "cell_type": "markdown",
   "metadata": {},
   "source": [
    "- Multiple elif statements can be stacked."
   ]
  },
  {
   "cell_type": "markdown",
   "metadata": {},
   "source": [
    "### Else with elif"
   ]
  },
  {
   "cell_type": "markdown",
   "metadata": {},
   "source": [
    "- If all the conditions are not met, you can use an else statement at the end: "
   ]
  }
 ],
 "metadata": {
  "kernelspec": {
   "display_name": "Python 3",
   "language": "python",
   "name": "python3"
  },
  "language_info": {
   "codemirror_mode": {
    "name": "ipython",
    "version": 3
   },
   "file_extension": ".py",
   "mimetype": "text/x-python",
   "name": "python",
   "nbconvert_exporter": "python",
   "pygments_lexer": "ipython3",
   "version": "3.11.4"
  }
 },
 "nbformat": 4,
 "nbformat_minor": 2
}
